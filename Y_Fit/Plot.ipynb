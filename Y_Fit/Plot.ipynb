{
 "cells": [
  {
   "cell_type": "code",
   "execution_count": 1,
   "id": "03e273a4-3389-42cd-a2b4-e50c0351569a",
   "metadata": {},
   "outputs": [],
   "source": [
    "%matplotlib widget\n",
    "import matplotlib.pyplot as plt\n",
    "import numpy as np"
   ]
  },
  {
   "cell_type": "code",
   "execution_count": 2,
   "id": "aaf1a304-6956-4f0b-86b8-08316dc69617",
   "metadata": {},
   "outputs": [],
   "source": [
    "file = 'rms.plot'\n",
    "with open(file,'r') as f:\n",
    "    data = f.readlines()\n",
    "  "
   ]
  },
  {
   "cell_type": "code",
   "execution_count": 3,
   "id": "fa3f35ac-4690-4b36-afb8-85bd8563f966",
   "metadata": {},
   "outputs": [],
   "source": [
    "  \n",
    "n = len(data)\n",
    "en = np.zeros(n)\n",
    "dip = np.zeros(n)\n",
    "err = np.zeros(n)\n",
    "\n",
    "for i in range(n):\n",
    "    err[i] = data[i].split(',')[0]\n",
    "    dip[i] = data[i].split(',')[2]\n",
    "    en[i] = data[i].split(',')[3]"
   ]
  },
  {
   "cell_type": "code",
   "execution_count": 5,
   "id": "37a372d7-92cb-4515-a0b6-1d3d99626fb3",
   "metadata": {},
   "outputs": [],
   "source": [
    "fig=plt.figure(figsize=(7,5))\n",
    "plt.xlabel(f'Energy [cm^{-1}]')\n",
    "plt.ylabel(f'Dipole Fit Error [a.u]')\n",
    "plt.ylim([-0.1,0.1])\n",
    "plt.scatter(en,err)\n",
    "#plt.show()\n",
    "plt.savefig('Y_fit.png',dpi=500)\n",
    "plt.close()"
   ]
  },
  {
   "cell_type": "code",
   "execution_count": null,
   "id": "7850bfac-24f2-4fed-80ef-c02c7ecd53a8",
   "metadata": {},
   "outputs": [],
   "source": []
  }
 ],
 "metadata": {
  "kernelspec": {
   "display_name": "Python 3 (ipykernel)",
   "language": "python",
   "name": "python3"
  },
  "language_info": {
   "codemirror_mode": {
    "name": "ipython",
    "version": 3
   },
   "file_extension": ".py",
   "mimetype": "text/x-python",
   "name": "python",
   "nbconvert_exporter": "python",
   "pygments_lexer": "ipython3",
   "version": "3.7.12"
  }
 },
 "nbformat": 4,
 "nbformat_minor": 5
}
